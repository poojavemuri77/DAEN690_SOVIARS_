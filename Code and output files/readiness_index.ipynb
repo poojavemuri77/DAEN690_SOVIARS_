{
 "cells": [
  {
   "cell_type": "code",
   "execution_count": 3,
   "id": "4c9b74c8",
   "metadata": {},
   "outputs": [],
   "source": [
    "from sklearn.preprocessing import MinMaxScaler"
   ]
  },
  {
   "cell_type": "code",
   "execution_count": 11,
   "id": "483576ca",
   "metadata": {},
   "outputs": [],
   "source": [
    "import pandas as pd\n",
    "df = pd.read_csv(\"D:/Soviars/Data files/Facilities_data.csv\", encoding='latin1')"
   ]
  },
  {
   "cell_type": "code",
   "execution_count": 12,
   "id": "7c954a4b",
   "metadata": {},
   "outputs": [
    {
     "data": {
      "text/html": [
       "<div>\n",
       "<style scoped>\n",
       "    .dataframe tbody tr th:only-of-type {\n",
       "        vertical-align: middle;\n",
       "    }\n",
       "\n",
       "    .dataframe tbody tr th {\n",
       "        vertical-align: top;\n",
       "    }\n",
       "\n",
       "    .dataframe thead th {\n",
       "        text-align: right;\n",
       "    }\n",
       "</style>\n",
       "<table border=\"1\" class=\"dataframe\">\n",
       "  <thead>\n",
       "    <tr style=\"text-align: right;\">\n",
       "      <th></th>\n",
       "      <th>Municipality</th>\n",
       "      <th>Shelters</th>\n",
       "      <th>Schools</th>\n",
       "      <th>Community Centers</th>\n",
       "      <th>Government Buildings</th>\n",
       "      <th>Transportation Hubs</th>\n",
       "      <th>Hospitals</th>\n",
       "    </tr>\n",
       "  </thead>\n",
       "  <tbody>\n",
       "    <tr>\n",
       "      <th>0</th>\n",
       "      <td>Adjuntas</td>\n",
       "      <td>52</td>\n",
       "      <td>7</td>\n",
       "      <td>7</td>\n",
       "      <td>6</td>\n",
       "      <td>1</td>\n",
       "      <td>3</td>\n",
       "    </tr>\n",
       "    <tr>\n",
       "      <th>1</th>\n",
       "      <td>Aguada</td>\n",
       "      <td>48</td>\n",
       "      <td>5</td>\n",
       "      <td>47</td>\n",
       "      <td>12</td>\n",
       "      <td>2</td>\n",
       "      <td>5</td>\n",
       "    </tr>\n",
       "    <tr>\n",
       "      <th>2</th>\n",
       "      <td>Aguadilla</td>\n",
       "      <td>7</td>\n",
       "      <td>20</td>\n",
       "      <td>60</td>\n",
       "      <td>15</td>\n",
       "      <td>4</td>\n",
       "      <td>3</td>\n",
       "    </tr>\n",
       "    <tr>\n",
       "      <th>3</th>\n",
       "      <td>Aguas Buenas</td>\n",
       "      <td>47</td>\n",
       "      <td>30</td>\n",
       "      <td>60</td>\n",
       "      <td>17</td>\n",
       "      <td>2</td>\n",
       "      <td>1</td>\n",
       "    </tr>\n",
       "    <tr>\n",
       "      <th>4</th>\n",
       "      <td>Aibonito</td>\n",
       "      <td>60</td>\n",
       "      <td>42</td>\n",
       "      <td>12</td>\n",
       "      <td>10</td>\n",
       "      <td>2</td>\n",
       "      <td>4</td>\n",
       "    </tr>\n",
       "  </tbody>\n",
       "</table>\n",
       "</div>"
      ],
      "text/plain": [
       "   Municipality  Shelters  Schools  Community Centers  Government Buildings  \\\n",
       "0      Adjuntas        52        7                  7                     6   \n",
       "1        Aguada        48        5                 47                    12   \n",
       "2     Aguadilla         7       20                 60                    15   \n",
       "3  Aguas Buenas        47       30                 60                    17   \n",
       "4      Aibonito        60       42                 12                    10   \n",
       "\n",
       "   Transportation Hubs  Hospitals  \n",
       "0                    1          3  \n",
       "1                    2          5  \n",
       "2                    4          3  \n",
       "3                    2          1  \n",
       "4                    2          4  "
      ]
     },
     "execution_count": 12,
     "metadata": {},
     "output_type": "execute_result"
    }
   ],
   "source": [
    "df.head()"
   ]
  },
  {
   "cell_type": "code",
   "execution_count": 22,
   "id": "b2d3c814",
   "metadata": {},
   "outputs": [
    {
     "name": "stdout",
     "output_type": "stream",
     "text": [
      "   Municipality  Readiness_Index  Shelters  Hospitals  Community Centers  \\\n",
      "0      Adjuntas         0.303338  0.864407   0.033898           0.101695   \n",
      "1        Aguada         0.401387  0.796610   0.067797           0.779661   \n",
      "2     Aguadilla         0.251684  0.101695   0.033898           1.000000   \n",
      "3  Aguas Buenas         0.463841  0.779661   0.000000           1.000000   \n",
      "4      Aibonito         0.429643  1.000000   0.050847           0.186441   \n",
      "\n",
      "    Schools  Government Buildings  Transportation Hubs  \n",
      "0  0.086207              0.100000             0.016667  \n",
      "1  0.051724              0.200000             0.033333  \n",
      "2  0.310345              0.250000             0.066667  \n",
      "3  0.482759              0.283333             0.033333  \n",
      "4  0.689655              0.166667             0.033333  \n"
     ]
    }
   ],
   "source": [
    "\n",
    "# Define the facility columns and their weights\n",
    "facility_columns = [\n",
    "    'Shelters',\n",
    "    'Hospitals',\n",
    "    'Community Centers',\n",
    "    'Schools',\n",
    "    'Government Buildings',\n",
    "    'Transportation Hubs'\n",
    "]\n",
    "\n",
    "weights = {\n",
    "    'Shelters': 0.30,\n",
    "    'Hospitals': 0.25,\n",
    "    'Community Centers': 0.15,\n",
    "    'Schools': 0.10,\n",
    "    'Government Buildings': 0.10,\n",
    "    'Transportation Hubs': 0.10\n",
    "}\n",
    "\n",
    "# Min-Max Normalize the facility columns\n",
    "scaler = MinMaxScaler()\n",
    "df_scaled = pd.DataFrame(scaler.fit_transform(df[facility_columns]), columns=facility_columns)\n",
    "\n",
    "# Add back the municipality column\n",
    "df_scaled['Municipality'] = df['Municipality']\n",
    "\n",
    "# Calculate the readiness index\n",
    "df_scaled['Readiness_Index'] = sum(\n",
    "    df_scaled[col] * weight for col, weight in weights.items()\n",
    ")\n",
    "\n",
    "# Reorder columns for clarity\n",
    "output = df_scaled[['Municipality', 'Readiness_Index'] + facility_columns]\n",
    "\n",
    "# Save to file (optional)\n",
    "output.to_csv(\"readiness_index_output.csv\", index=False)\n",
    "\n",
    "# Display sample output\n",
    "print(output.head())\n"
   ]
  },
  {
   "cell_type": "code",
   "execution_count": 21,
   "id": "07ead59c",
   "metadata": {},
   "outputs": [
    {
     "name": "stdout",
     "output_type": "stream",
     "text": [
      "New working directory: D:\\Soviars\n"
     ]
    }
   ],
   "source": [
    "import os\n",
    "\n",
    "# Change to your desired directory\n",
    "os.chdir(r\"D:/Soviars\")\n",
    "\n",
    "# Verify the change\n",
    "print(\"New working directory:\", os.getcwd())"
   ]
  },
  {
   "cell_type": "code",
   "execution_count": 23,
   "id": "7091a129",
   "metadata": {},
   "outputs": [
    {
     "name": "stdout",
     "output_type": "stream",
     "text": [
      "File saved at: D:\\Soviars\\readiness_index_output.csv\n"
     ]
    }
   ],
   "source": [
    "# Specify the file path\n",
    "file_path = 'readiness_index_output.csv'\n",
    "\n",
    "# Check if the file exists\n",
    "if os.path.exists(file_path):\n",
    "    print(\"File saved at:\", os.path.abspath(file_path))\n",
    "else:\n",
    "    print(\"File not found.\")"
   ]
  },
  {
   "cell_type": "code",
   "execution_count": 27,
   "id": "74247348",
   "metadata": {},
   "outputs": [
    {
     "name": "stdout",
     "output_type": "stream",
     "text": [
      "   Municipality  Readiness_Index  Shelters  Hospitals  Community Centers  \\\n",
      "0      Adjuntas            0.303     0.864      0.034              0.102   \n",
      "1        Aguada            0.401     0.797      0.068              0.780   \n",
      "2     Aguadilla            0.252     0.102      0.034              1.000   \n",
      "3  Aguas Buenas            0.464     0.780      0.000              1.000   \n",
      "4      Aibonito            0.430     1.000      0.051              0.186   \n",
      "\n",
      "   Schools  Government Buildings  Transportation Hubs  \n",
      "0    0.086                 0.100                0.017  \n",
      "1    0.052                 0.200                0.033  \n",
      "2    0.310                 0.250                0.067  \n",
      "3    0.483                 0.283                0.033  \n",
      "4    0.690                 0.167                0.033  \n"
     ]
    }
   ],
   "source": [
    "# Round all numeric columns to 3 decimal places\n",
    "output = output.round(3)\n",
    "print(output.head())\n",
    "output.to_csv(\"readiness.csv\", index=False)\n"
   ]
  }
 ],
 "metadata": {
  "kernelspec": {
   "display_name": "Python 3",
   "language": "python",
   "name": "python3"
  },
  "language_info": {
   "codemirror_mode": {
    "name": "ipython",
    "version": 3
   },
   "file_extension": ".py",
   "mimetype": "text/x-python",
   "name": "python",
   "nbconvert_exporter": "python",
   "pygments_lexer": "ipython3",
   "version": "3.11.9"
  }
 },
 "nbformat": 4,
 "nbformat_minor": 5
}
